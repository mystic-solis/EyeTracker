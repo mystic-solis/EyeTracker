{
 "cells": [
  {
   "cell_type": "code",
   "execution_count": null,
   "metadata": {},
   "outputs": [],
   "source": [
    "import torch\n",
    "\n",
    "# Проверка видимости видеокарты\n",
    "if torch.cuda.is_available():\n",
    "    print(torch.cuda.get_device_name(0))"
   ]
  },
  {
   "cell_type": "code",
   "execution_count": null,
   "metadata": {},
   "outputs": [],
   "source": [
    "# Преобразование модели с использованием TensorRT ускорение до 5x GPU или ONNX ускорение до 3x CPU\n",
    "from ultralytics import YOLO\n",
    "\n",
    "# Load the YOLO11 model\n",
    "model = YOLO(\"server/best.pt\")\n",
    "\n",
    "# Export the model to TensorRT format\n",
    "# https://docs.ultralytics.com/ru/integrations/tensorrt/#export-arguments\n",
    "model.export(format=\"engine\", simplify=True, half=True, data=r\"V:\\eye-dataset\\YOLO_dataset\\data.yaml\")\n",
    "\n",
    "# Load the exported TensorRT model\n",
    "# tensorrt_model = YOLO(\"yolo11n.engine\")\n",
    "\n",
    "# Run inference\n",
    "# results = tensorrt_model(\"https://ultralytics.com/images/bus.jpg\")"
   ]
  },
  {
   "cell_type": "code",
   "execution_count": null,
   "metadata": {},
   "outputs": [],
   "source": []
  }
 ],
 "metadata": {
  "kernelspec": {
   "display_name": ".venv",
   "language": "python",
   "name": "python3"
  },
  "language_info": {
   "codemirror_mode": {
    "name": "ipython",
    "version": 3
   },
   "file_extension": ".py",
   "mimetype": "text/x-python",
   "name": "python",
   "nbconvert_exporter": "python",
   "pygments_lexer": "ipython3",
   "version": "3.12.8"
  }
 },
 "nbformat": 4,
 "nbformat_minor": 4
}
