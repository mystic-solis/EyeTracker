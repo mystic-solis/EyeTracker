{
 "cells": [
  {
   "cell_type": "code",
   "execution_count": null,
   "metadata": {},
   "outputs": [],
   "source": [
    "import os\n",
    "os.environ[\"PYTORCH_CUDA_ALLOC_CONF\"] = \"expandable_segments:True\" # ,garbage_collection_threshold:0.9\n",
    "\n",
    "from ultralytics import YOLO\n",
    "\n",
    "# Для трекинга глаз\n",
    "dataset_path = r\"V:\\eye-dataset\\YOLO_dataset\\data.yaml\"\n",
    "model_name = 'yolo12n.pt'\n",
    "model = YOLO(\"yolo12n.yaml\").load(model_name)\n",
    "\n",
    "# Train the model\n",
    "results = model.train(\n",
    "    data=dataset_path,\n",
    "    epochs=300,\n",
    "    imgsz=1080,\n",
    "    batch=9,\n",
    "    cache='disk',\n",
    "    model=model_name,\n",
    "    project=r\"V:\\eye-dataset\\runs\",\n",
    ") # cache=True 'disk'"
   ]
  },
  {
   "cell_type": "code",
   "execution_count": null,
   "metadata": {},
   "outputs": [],
   "source": []
  }
 ],
 "metadata": {
  "kernelspec": {
   "display_name": ".venv",
   "language": "python",
   "name": "python3"
  },
  "language_info": {
   "codemirror_mode": {
    "name": "ipython",
    "version": 3
   },
   "file_extension": ".py",
   "mimetype": "text/x-python",
   "name": "python",
   "nbconvert_exporter": "python",
   "pygments_lexer": "ipython3",
   "version": "3.12.8"
  }
 },
 "nbformat": 4,
 "nbformat_minor": 4
}
